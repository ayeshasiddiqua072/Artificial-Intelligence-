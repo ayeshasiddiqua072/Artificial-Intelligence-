{
  "nbformat": 4,
  "nbformat_minor": 0,
  "metadata": {
    "colab": {
      "provenance": [],
      "include_colab_link": true
    },
    "kernelspec": {
      "name": "python3",
      "display_name": "Python 3"
    },
    "language_info": {
      "name": "python"
    }
  },
  "cells": [
    {
      "cell_type": "markdown",
      "metadata": {
        "id": "view-in-github",
        "colab_type": "text"
      },
      "source": [
        "<a href=\"https://colab.research.google.com/github/ayeshasiddiqua072/Artificial-Intelligence-/blob/main/AI%20Lab%20Task08.ipynb\" target=\"_parent\"><img src=\"https://colab.research.google.com/assets/colab-badge.svg\" alt=\"Open In Colab\"/></a>"
      ]
    },
    {
      "cell_type": "code",
      "execution_count": null,
      "metadata": {
        "colab": {
          "base_uri": "https://localhost:8080/"
        },
        "id": "1--6oozB8oBV",
        "outputId": "cd4c33fc-df6f-4c95-ff1b-3bf8822ca436"
      },
      "outputs": [
        {
          "output_type": "stream",
          "name": "stdout",
          "text": [
            "[[38 43 47 25  6 34  1 23 28 44]\n",
            " [23 13 14 37 11  8 11 41  5 36]\n",
            " [47  2  1 34 48 43 16 47  9 40]\n",
            " [40 32  5 38  1 46 42 44 28 18]\n",
            " [36 29 12 12 30 23 20 20  9 44]\n",
            " [17 17  6 22 37 18 25 22  9  3]\n",
            " [36 24 46 44 38 13 15 17 44 15]\n",
            " [43 17 35  2 21 22 48  8  9 14]\n",
            " [10 45  9 27 41 25 15 27 23  9]\n",
            " [32 22 25 44 19 44 42 11 43 29]]\n",
            "\n",
            "Step # 1\n",
            "Current state coordinates:  (3, 6)\n",
            "Current state value:  42\n",
            "\n",
            "Step # 2\n",
            "Current state coordinates:  (2, 7)\n",
            "Current state value:  47\n",
            "\n",
            "Step # 3\n",
            "Optimization objective reached.\n",
            "Final state coordinates:  (2, 7)\n",
            "Final state value:  47\n"
          ]
        }
      ],
      "source": [
        "import numpy as np\n",
        "\n",
        "\n",
        "def find_neighbours(state, landscape):\n",
        "    neighbours = []\n",
        "    dim = landscape.shape\n",
        "\n",
        "    # left neighbour\n",
        "    if state[0] != 0:\n",
        "        neighbours.append((state[0] - 1, state[1]))\n",
        "\n",
        "    # right neighbour\n",
        "    if state[0] != dim[0] - 1:\n",
        "        neighbours.append((state[0] + 1, state[1]))\n",
        "\n",
        "    # top neighbour\n",
        "    if state[1] != 0:\n",
        "        neighbours.append((state[0], state[1] - 1))\n",
        "\n",
        "    # bottom neighbour\n",
        "    if state[1] != dim[1] - 1:\n",
        "        neighbours.append((state[0], state[1] + 1))\n",
        "\n",
        "    # top left\n",
        "    if state[0] != 0 and state[1] != 0:\n",
        "        neighbours.append((state[0] - 1, state[1] - 1))\n",
        "\n",
        "    # bottom left\n",
        "    if state[0] != 0 and state[1] != dim[1] - 1:\n",
        "        neighbours.append((state[0] - 1, state[1] + 1))\n",
        "\n",
        "    # top right\n",
        "    if state[0] != dim[0] - 1 and state[1] != 0:\n",
        "        neighbours.append((state[0] + 1, state[1] - 1))\n",
        "\n",
        "    # bottom right\n",
        "    if state[0] != dim[0] - 1 and state[1] != dim[1] - 1:\n",
        "        neighbours.append((state[0] + 1, state[1] + 1))\n",
        "\n",
        "    return neighbours\n",
        "\n",
        "\n",
        "# Current optimization objective: local/global maximum\n",
        "def hill_climb(curr_state, landscape):\n",
        "    neighbours = find_neighbours(curr_state, landscape)\n",
        "    bool\n",
        "    ascended = False\n",
        "    next_state = curr_state\n",
        "    for neighbour in neighbours: #Find the neighbour with the greatest value\n",
        "        if landscape[neighbour[0]][neighbour[1]] > landscape[next_state[0]][next_state[1]]:\n",
        "            next_state = neighbour\n",
        "            ascended = True\n",
        "\n",
        "    return ascended, next_state\n",
        "\n",
        "\n",
        "def __main__():\n",
        "    landscape = np.random.randint(1, high=50, size=(10, 10))\n",
        "    print(landscape)\n",
        "    start_state = (3, 6)  # matrix index coordinates\n",
        "    current_state = start_state\n",
        "    count = 1\n",
        "    ascending = True\n",
        "    while ascending:\n",
        "        print(\"\\nStep #\", count)\n",
        "        print(\"Current state coordinates: \", current_state)\n",
        "        print(\"Current state value: \", landscape[current_state[0]][current_state[1]])\n",
        "        count += 1\n",
        "        ascending, current_state = hill_climb(current_state, landscape)\n",
        "\n",
        "    print(\"\\nStep #\", count)\n",
        "    print(\"Optimization objective reached.\")\n",
        "    print(\"Final state coordinates: \", current_state)\n",
        "    print(\"Final state value: \", landscape[current_state[0]][current_state[1]])\n",
        "\n",
        "\n",
        "__main__()\n",
        "\n",
        "\n",
        "\n"
      ]
    }
  ]
}