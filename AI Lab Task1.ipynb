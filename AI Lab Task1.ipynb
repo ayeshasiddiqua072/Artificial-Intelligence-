{
  "nbformat": 4,
  "nbformat_minor": 0,
  "metadata": {
    "colab": {
      "provenance": [],
      "authorship_tag": "ABX9TyNQMg/kMa09r1GtlBGv614J",
      "include_colab_link": true
    },
    "kernelspec": {
      "name": "python3",
      "display_name": "Python 3"
    },
    "language_info": {
      "name": "python"
    }
  },
  "cells": [
    {
      "cell_type": "markdown",
      "metadata": {
        "id": "view-in-github",
        "colab_type": "text"
      },
      "source": [
        "<a href=\"https://colab.research.google.com/github/ayeshasiddiqua072/Artificial-Intelligence-/blob/main/AI%20Lab%20Task1.ipynb\" target=\"_parent\"><img src=\"https://colab.research.google.com/assets/colab-badge.svg\" alt=\"Open In Colab\"/></a>"
      ]
    },
    {
      "cell_type": "code",
      "execution_count": null,
      "metadata": {
        "colab": {
          "base_uri": "https://localhost:8080/"
        },
        "id": "FC_TnmVA4gyG",
        "outputId": "e6a328ab-ae4f-4469-8d03-c04667cd4825"
      },
      "outputs": [
        {
          "output_type": "stream",
          "name": "stdout",
          "text": [
            "Enter a number:54\n",
            "The number 54 is even\n"
          ]
        }
      ],
      "source": [
        "#Activity 1\n",
        "# Check whether the number is Even or Odd\n",
        "number= int(input(\"Enter a number:\"))\n",
        "if (number % 2 == 0):\n",
        "  print(\"The number\",number,\"is even\")\n",
        "else:\n",
        "  print(\"The number\",number,\"is odd\")"
      ]
    },
    {
      "cell_type": "code",
      "source": [
        "#Activity 2\n",
        "# Write a Python code to keep accepting integer values from user until 0 is entered.\n",
        "# Display sum of the given values.\n",
        "sum = 0\n",
        "number = int(input(\"Enter a number:\"))\n",
        "while (number!= 0):\n",
        " sum= sum+ number\n",
        " number = int(input(\"Enter a number:\"))\n",
        "\n",
        "print(\"The sum is:\",sum)"
      ],
      "metadata": {
        "colab": {
          "base_uri": "https://localhost:8080/"
        },
        "id": "zjw443P0c06g",
        "outputId": "83f330e6-53ae-4d84-8e32-81d0d11f97d3"
      },
      "execution_count": null,
      "outputs": [
        {
          "output_type": "stream",
          "name": "stdout",
          "text": [
            "Enter a number:12\n",
            "Enter a number:6\n",
            "Enter a number:8\n",
            "Enter a number:0\n",
            "The sum is: 26\n"
          ]
        }
      ]
    },
    {
      "cell_type": "code",
      "source": [
        "#Activity 3\n",
        "# Check whether the number is prime or not\n",
        "isprime= True\n",
        "i=2\n",
        "number= int(input(\"Enter a number:\"))\n",
        "while(i< number):\n",
        "  reminder= number%i\n",
        "  if(reminder == 0):\n",
        "    isprime= False\n",
        "  else:\n",
        "      i=i+1\n",
        "if (isprime):\n",
        "  print(\"The number is prime\")\n",
        "else:\n",
        "  print(\"The number is not prime\")"
      ],
      "metadata": {
        "colab": {
          "base_uri": "https://localhost:8080/"
        },
        "id": "gSq9GgCXbyEF",
        "outputId": "c549df99-3591-43c1-aabe-290971bf8818"
      },
      "execution_count": null,
      "outputs": [
        {
          "output_type": "stream",
          "name": "stdout",
          "text": [
            "Enter a number:5\n",
            "The number is prime\n"
          ]
        }
      ]
    },
    {
      "cell_type": "code",
      "source": [
        "#Activity 4\n",
        "# Accept 5 integer values from user and display their sum.\n",
        "i=0\n",
        "sum=0\n",
        "while(i<=4):\n",
        "  number=int(input(\"Enter a number:\"))\n",
        "  sum=sum+number\n",
        "  i=i+1\n",
        "  print(sum)"
      ],
      "metadata": {
        "colab": {
          "base_uri": "https://localhost:8080/"
        },
        "id": "KeqSR8oEW-iP",
        "outputId": "ad305a9a-5fa1-41d7-a8e4-70f1f11a2b46"
      },
      "execution_count": null,
      "outputs": [
        {
          "output_type": "stream",
          "name": "stdout",
          "text": [
            "Enter a number:0\n",
            "0\n",
            "Enter a number:41\n",
            "41\n",
            "Enter a number:14\n",
            "55\n",
            "Enter a number:77\n",
            "132\n",
            "Enter a number:44\n",
            "176\n"
          ]
        }
      ]
    },
    {
      "cell_type": "code",
      "source": [
        "#Activity 5\n",
        "# Calculate the sum of all the values between 0-10 using while loop.\n",
        "sum=0\n",
        "i=1\n",
        "while(i<=10):\n",
        "  sum=sum+i\n",
        "  i=i+1\n",
        "print(sum)"
      ],
      "metadata": {
        "colab": {
          "base_uri": "https://localhost:8080/"
        },
        "id": "lvpd_C62Xf2l",
        "outputId": "b285f078-32a7-40d9-e6cd-1c08d524975b"
      },
      "execution_count": null,
      "outputs": [
        {
          "output_type": "stream",
          "name": "stdout",
          "text": [
            "55\n"
          ]
        }
      ]
    },
    {
      "cell_type": "code",
      "source": [
        "#Activity 6\n",
        "\n",
        "name =input(\"What is your name?\")\n",
        "age= int(input(\"What is your age?\"))\n",
        "city=input(\"In which city do you live?\")\n",
        "print(\"Welcome \"+name)\n",
        "print(\"Your age is \",age)\n",
        "print(\"You live in \"+city+\" city\")\n"
      ],
      "metadata": {
        "colab": {
          "base_uri": "https://localhost:8080/"
        },
        "id": "O-N-4FQfX6Eq",
        "outputId": "29ee71e2-5754-445b-ce28-bf004adc5365"
      },
      "execution_count": null,
      "outputs": [
        {
          "output_type": "stream",
          "name": "stdout",
          "text": [
            "What is your name?Ayesha Siddiqua\n",
            "What is your age?20\n",
            "In which city do you live?Lahore\n",
            "Welcome Ayesha Siddiqua\n",
            "Your age is  20\n",
            "You live in Lahore city\n"
          ]
        }
      ]
    },
    {
      "cell_type": "code",
      "source": [
        "# Lab Task 1\n",
        "# Write a program that prompts the user to input an integer and \n",
        "# then outputs the number with the digits reversed. \n",
        "# For example, if the input is 12345, the output should be 54321.\n",
        "\n",
        "number = int(input(\"Enter a number: \"))\n",
        "reverseNumber = 0\n",
        "while (number != 0):\n",
        "  remainder = number % 10\n",
        "  reverseNumber = (reverseNumber * 10) + remainder\n",
        "  number = number // 10\n",
        "print(\"Reverse number is: \",reverseNumber)"
      ],
      "metadata": {
        "colab": {
          "base_uri": "https://localhost:8080/"
        },
        "id": "sLxgl7gMQc8-",
        "outputId": "728e0c8c-21e4-43e8-8acd-7f8168a54acd"
      },
      "execution_count": 10,
      "outputs": [
        {
          "output_type": "stream",
          "name": "stdout",
          "text": [
            "Enter a number: 56\n",
            "Reverse number is:  65\n"
          ]
        }
      ]
    },
    {
      "cell_type": "code",
      "source": [
        "# Lab Task 2\n",
        "# Write a program that reads a set of integers, and then \n",
        "# prints the sum of the even and odd integers.\n",
        "\n",
        "sumOfEvenNumbers = 0\n",
        "sumOfOddNumbers = 0\n",
        "\n",
        "count = 0\n",
        "while count < 10:\n",
        "  number = int(input(\"Enter a number : \"))\n",
        "  if (number % 2 == 0):\n",
        "    sumOfEvenNumbers += number\n",
        "  else:\n",
        "    sumOfOddNumbers += number\n",
        "  count += 1\n",
        "print(\"Sum of Even Numbers is: \",sumOfEvenNumbers)\n",
        "print(\"Sum of Odd Numbers is: \",sumOfOddNumbers)"
      ],
      "metadata": {
        "colab": {
          "base_uri": "https://localhost:8080/"
        },
        "id": "9nxzKpOfRQCP",
        "outputId": "20f377f4-d4e1-4a96-cfd5-47ef9846182d"
      },
      "execution_count": 11,
      "outputs": [
        {
          "output_type": "stream",
          "name": "stdout",
          "text": [
            "Enter a number : 12\n",
            "Enter a number : 13\n",
            "Enter a number : 14\n",
            "Enter a number : 15\n",
            "Enter a number : 16\n",
            "Enter a number : 17\n",
            "Enter a number : 18\n",
            "Enter a number : 19\n",
            "Enter a number : 20\n",
            "Enter a number : 21\n",
            "Sum of Even Numbers is:  80\n",
            "Sum of Odd Numbers is:  85\n"
          ]
        }
      ]
    },
    {
      "cell_type": "code",
      "source": [
        "# Lab Task 3\n",
        "# Fabonacci Series\n",
        "number = int(input(\"Enter a number : \"))\n",
        "fabonacci_series = \"\"\n",
        "a = 0\n",
        "b = 1\n",
        "c = 0\n",
        "for i in range (1, number + 1):\n",
        "    fabonacci_series += (f\"{c} \")\n",
        "    c = a + b\n",
        "    a = b\n",
        "    b = c\n",
        "print(fabonacci_series)"
      ],
      "metadata": {
        "colab": {
          "base_uri": "https://localhost:8080/"
        },
        "id": "BK-6KzmbR2KO",
        "outputId": "424abe1b-c7b0-4099-fdc6-1ac1a6614f8e"
      },
      "execution_count": 4,
      "outputs": [
        {
          "output_type": "stream",
          "name": "stdout",
          "text": [
            "Enter a number : 66\n",
            "0 1 2 3 5 8 13 21 34 55 89 144 233 377 610 987 1597 2584 4181 6765 10946 17711 28657 46368 75025 121393 196418 317811 514229 832040 1346269 2178309 3524578 5702887 9227465 14930352 24157817 39088169 63245986 102334155 165580141 267914296 433494437 701408733 1134903170 1836311903 2971215073 4807526976 7778742049 12586269025 20365011074 32951280099 53316291173 86267571272 139583862445 225851433717 365435296162 591286729879 956722026041 1548008755920 2504730781961 4052739537881 6557470319842 10610209857723 17167680177565 27777890035288 \n"
          ]
        }
      ]
    },
    {
      "cell_type": "code",
      "source": [
        "# lab task 4\n",
        "# Grading System\n",
        "marks = int(input(\" Please Enter Your Marks: \"))\n",
        "\n",
        "if marks > 90:\n",
        "  print(\"A grade\")\n",
        "elif marks > 80 and marks <= 89:\n",
        "  print(\"B grade\")\n",
        "elif marks > 70 and marks <= 79:\n",
        "  print(\"C grade\")\n",
        "elif marks > 60 and marks <= 69:\n",
        "  print(\"D grade\")\n",
        "elif marks >= 50 and marks <=60:\n",
        "  print(\"E grade\")\n",
        "else:\n",
        "  print(\"F grade\")"
      ],
      "metadata": {
        "colab": {
          "base_uri": "https://localhost:8080/"
        },
        "id": "h15KETq9SBE1",
        "outputId": "af22a68d-833a-47f5-e214-f8a366a36a06"
      },
      "execution_count": 5,
      "outputs": [
        {
          "output_type": "stream",
          "name": "stdout",
          "text": [
            " Please Enter Your Marks: 89\n",
            "B grade\n"
          ]
        }
      ]
    },
    {
      "cell_type": "code",
      "source": [
        "# Lab task 5\n",
        "# Factorial of a number\n",
        "\n",
        "number = int(input(\"Enter a number: \"))\n",
        "factorial = 1\n",
        "\n",
        "for i in range(1, number+1):\n",
        "  factorial *= i\n",
        "print(f'Factorial of {number} is {factorial}')"
      ],
      "metadata": {
        "colab": {
          "base_uri": "https://localhost:8080/"
        },
        "id": "e6g_CeAgST43",
        "outputId": "482f7656-44e8-4888-e812-9292e8bb480c"
      },
      "execution_count": 14,
      "outputs": [
        {
          "output_type": "stream",
          "name": "stdout",
          "text": [
            "Enter a number: 4\n",
            "Factorial of 4 is 24\n"
          ]
        }
      ]
    }
  ]
}