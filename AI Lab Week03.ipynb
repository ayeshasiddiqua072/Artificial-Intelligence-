{
  "nbformat": 4,
  "nbformat_minor": 0,
  "metadata": {
    "colab": {
      "provenance": [],
      "authorship_tag": "ABX9TyMteiX1cFVKsIXks64aGtBw",
      "include_colab_link": true
    },
    "kernelspec": {
      "name": "python3",
      "display_name": "Python 3"
    },
    "language_info": {
      "name": "python"
    }
  },
  "cells": [
    {
      "cell_type": "markdown",
      "metadata": {
        "id": "view-in-github",
        "colab_type": "text"
      },
      "source": [
        "<a href=\"https://colab.research.google.com/github/ayeshasiddiqua072/Artificial-Intelligence-/blob/main/AI%20Lab%20Week03.ipynb\" target=\"_parent\"><img src=\"https://colab.research.google.com/assets/colab-badge.svg\" alt=\"Open In Colab\"/></a>"
      ]
    },
    {
      "cell_type": "code",
      "execution_count": 1,
      "metadata": {
        "colab": {
          "base_uri": "https://localhost:8080/"
        },
        "id": "VViE2m-JjJDY",
        "outputId": "6648653e-7515-4d8d-9c69-349fc92b0c1c"
      },
      "outputs": [
        {
          "output_type": "stream",
          "name": "stdout",
          "text": [
            "Enter the initial Node: Sibui\n",
            "Enter the Destination Node: Eforie\n",
            "\n",
            "Shotest Path Is:  ['Sibui', 'Fagaras', 'Bucharest', 'Urziceni', 'Hirsova', 'Eforie']\n"
          ]
        }
      ],
      "source": [
        "# Lab Task 1\n",
        "class Node:\n",
        "    def __init__(self, state, parent, actions):\n",
        "        self.state = state\n",
        "        self.parent = parent\n",
        "        self.actions = actions\n",
        "\n",
        "def BFS():\n",
        "    startingNode = input(\"Enter the initial Node: \")\n",
        "    destinationNode = input(\"Enter the Destination Node: \")\n",
        "\n",
        "    nodeGraphs = {'Oradea': Node('Oradea', None, ['Zerind' , 'Sibui']),\n",
        "                  'Zerind': Node('Zerind', None, ['Oradea' , 'Arad']),\n",
        "                  'Neamt': Node('Neamt', None, ['Iasi']),\n",
        "                  'Arad': Node('Arad', None, ['Zerind', 'Sibui' , 'Timisoara']),\n",
        "                  'Isai': Node('Isai', None, ['Neamt','Vaslui']),\n",
        "                  'Sibui': Node('Sibui', None, ['Oradea', 'Arad' , 'Fagaras']),\n",
        "                  'Fagaras': Node('Fagaras', None, ['Sibui', 'Bucharest']),\n",
        "                  'Vaslui': Node('Vaslui', None, ['Isai','Urziceni']),\n",
        "                  'Timisoara': Node('Timisoara', None, ['Arad','Lugoj']),\n",
        "                  'Riminica': Node('Riminica', None, ['Sibui','Pitesti','Craiova']),\n",
        "                  'Lugoj': Node('Lugoj', None, ['Timisoara','Mehadia']),\n",
        "                  'Pitesti': Node('Pitesti', None, ['Riminica','Craiova','Bucharest']),\n",
        "                  'Mehadia': Node('Mehadia', None, ['Lugoj','Drobeta']),\n",
        "                  'Bucharest': Node('Bucharest', None, ['Fagaras','Pitesti','Urziceni']),\n",
        "                  'Urziceni': Node('Urziceni', None, ['Bucharest','Hirsova','Vaslui']),\n",
        "                  'Hirsova': Node('Hirsova', None, ['Urziceni','Eforie']),\n",
        "                  'Drobeta': Node('Drobeta', None, ['Mehndia','Craiova']),\n",
        "                  'Craiova': Node('Craiova', None, ['Drobeta','Riminica','Pitesti']),\n",
        "                  'Giurgui': Node('Giurgui', None, ['Bucharest']),\n",
        "                  'Eforie': Node('Eforie', None, ['Hirsova'])}\n",
        "    queue = [startingNode]\n",
        "    visitedNode = []\n",
        "    \n",
        "    while len(queue) != 0:\n",
        "        temp = queue.pop(0)\n",
        "        visitedNode.append(temp)\n",
        "        \n",
        "        for child in nodeGraphs[temp].actions:\n",
        "            if child not in queue and child not in visitedNode:\n",
        "                nodeGraphs[child].parent = temp\n",
        "                if nodeGraphs[child].state == destinationNode:\n",
        "                   return roadMap(nodeGraphs, startingNode ,destinationNode)\n",
        "                queue.append(child)\n",
        "                \n",
        "def roadMap(nodeGraphs, startingNode, destinationNode):\n",
        "    temporary = [destinationNode]\n",
        "    parentCurrent = nodeGraphs[destinationNode].parent\n",
        "    \n",
        "    while parentCurrent != None:\n",
        "        temporary.append(parentCurrent)\n",
        "        parentCurrent = nodeGraphs[parentCurrent].parent\n",
        "    temporary.reverse()\n",
        "    return temporary\n",
        "\n",
        "sol = BFS()\n",
        "print()\n",
        "print(\"Shotest Path Is: \" , sol)"
      ]
    },
    {
      "cell_type": "code",
      "source": [
        "# LAB TASK 02\n",
        "def solveMazeWithPath(maze):\n",
        "    R, C = len(maze), len(maze[0])\n",
        "\n",
        "    start = (0, 0)\n",
        "    for r in range(R):\n",
        "        for c in range(C):\n",
        "            if maze[r][c] == 'S':\n",
        "                start = (r, c)\n",
        "                break\n",
        "        else:\n",
        "            continue\n",
        "        break\n",
        "    else:\n",
        "        return None\n",
        "\n",
        "    queue = deque()\n",
        "    queue.appendleft((start[0], start[1], 0, [start[0] * C + start[1]]))\n",
        "    directions = [[0, 1], [0, -1], [1, 0], [-1, 0]]\n",
        "    visited = [[False] * C for _ in range(R)]\n",
        "\n",
        "    while len(queue) != 0:\n",
        "        coord = queue.pop()\n",
        "        visited[coord[0]][coord[1]] = True\n",
        "\n",
        "        if maze[coord[0]][coord[1]] == \"E\":\n",
        "            return coord[2], [[i//C, i%C] for i in coord[3]] # Return path length, boxes on path\n",
        "\n",
        "        for dir in directions:\n",
        "            nr, nc = coord[0] + dir[0], coord[1] + dir[1]\n",
        "            if (nr < 0 or nr >= R or nc < 0 or nc >= C or maze[nr][nc] == \"#\" or visited[nr][nc]): continue\n",
        "            queue.appendleft((nr, nc, coord[2] + 1, coord[3] + [nr * C + nc])) "
      ],
      "metadata": {
        "id": "nnlXWpcVjdaP"
      },
      "execution_count": 4,
      "outputs": []
    }
  ]
}