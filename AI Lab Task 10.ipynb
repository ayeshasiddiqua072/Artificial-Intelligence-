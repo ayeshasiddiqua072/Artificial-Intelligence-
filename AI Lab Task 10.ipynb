{
  "nbformat": 4,
  "nbformat_minor": 0,
  "metadata": {
    "colab": {
      "provenance": []
    },
    "kernelspec": {
      "name": "python3",
      "display_name": "Python 3"
    },
    "language_info": {
      "name": "python"
    }
  },
  "cells": [
    {
      "cell_type": "code",
      "execution_count": null,
      "metadata": {
        "colab": {
          "base_uri": "https://localhost:8080/"
        },
        "id": "1--6oozB8oBV",
        "outputId": "f2c77935-a100-458e-aa01-79e6732edce0"
      },
      "outputs": [
        {
          "output_type": "stream",
          "name": "stdout",
          "text": [
            "moiz\n",
            "vudy\t0\t0:00:00.000066\n",
            "vudz\t1\t0:00:00.002062\n",
            "mudz\t2\t0:00:00.003546\n",
            "muiz\t3\t0:00:00.004056\n",
            "moiz\t4\t0:00:00.007419\n"
          ]
        }
      ],
      "source": [
        "geneSet = \"abcdefghijklmnopqrstuvwxyzABCDEFGHIJKLMNOPQRSTUVWXYZ!,. ?\"\n",
        "import random\n",
        "import datetime\n",
        "def Calculate_Fitness(guess):\n",
        "    return sum(1 for expected,actual in zip(target,guess) if expected==actual)\n",
        "\n",
        "def Cross_Over(length):\n",
        "    genes=[]\n",
        "    while len(genes)<length:\n",
        "        sampleSize=min(length-len(genes),len(geneSet))\n",
        "        genes.extend(random.sample(geneSet,sampleSize))\n",
        "    return \"\".join(genes)\n",
        "\n",
        "def Mutation(parent):\n",
        "    index=random.randrange(0,len(parent))\n",
        "    childGenes=list(parent)\n",
        "    newGene,alternate=random.sample(geneSet,2)\n",
        "    childGenes[index]=alternate if newGene==childGenes[index] else newGene\n",
        "    return \"\".join(childGenes)\n",
        "\n",
        "def Display(guess, startTime):\n",
        "    timeDiff=datetime.datetime.now()-startTime\n",
        "    fitness=Calculate_Fitness(guess)\n",
        "    print(\"{}\\t{}\\t{}\".format(guess,fitness,timeDiff))\n",
        "\n",
        "def run_genetic_algo(target):   \n",
        "    random.seed()\n",
        "    startTime=datetime.datetime.now()\n",
        "    bestParent=Cross_Over(len(target))\n",
        "    bestFitness=Calculate_Fitness(bestParent)\n",
        "    Display(bestParent, startTime)\n",
        "    while True:\n",
        "        child=Mutation(bestParent)\n",
        "        childFitness=Calculate_Fitness(child)\n",
        "        if bestFitness>=childFitness:\n",
        "            continue\n",
        "        Display(child, startTime)\n",
        "        if childFitness>=len(bestParent):\n",
        "            break\n",
        "            exit(0)\n",
        "        bestFitness=childFitness\n",
        "        bestParent=child\n",
        "target = input()\n",
        "run_genetic_algo(target)"
      ]
    }
  ]
}