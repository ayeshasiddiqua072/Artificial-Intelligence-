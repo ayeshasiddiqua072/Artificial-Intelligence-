{
  "nbformat": 4,
  "nbformat_minor": 0,
  "metadata": {
    "colab": {
      "provenance": [],
      "authorship_tag": "ABX9TyMmSc7WA+4u1oPNJjRHrm2A",
      "include_colab_link": true
    },
    "kernelspec": {
      "name": "python3",
      "display_name": "Python 3"
    },
    "language_info": {
      "name": "python"
    }
  },
  "cells": [
    {
      "cell_type": "markdown",
      "metadata": {
        "id": "view-in-github",
        "colab_type": "text"
      },
      "source": [
        "<a href=\"https://colab.research.google.com/github/ayeshasiddiqua072/Artificial-Intelligence-/blob/main/Untitled0.ipynb\" target=\"_parent\"><img src=\"https://colab.research.google.com/assets/colab-badge.svg\" alt=\"Open In Colab\"/></a>"
      ]
    },
    {
      "cell_type": "code",
      "execution_count": 12,
      "metadata": {
        "colab": {
          "base_uri": "https://localhost:8080/"
        },
        "id": "FC_TnmVA4gyG",
        "outputId": "e6a328ab-ae4f-4469-8d03-c04667cd4825"
      },
      "outputs": [
        {
          "output_type": "stream",
          "name": "stdout",
          "text": [
            "Enter a number:54\n",
            "The number 54 is even\n"
          ]
        }
      ],
      "source": [
        "#Activity 1\n",
        "number= int(input(\"Enter a number:\"))\n",
        "if (number % 2 == 0):\n",
        "  print(\"The number\",number,\"is even\")\n",
        "else:\n",
        "  print(\"The number\",number,\"is odd\")"
      ]
    },
    {
      "cell_type": "code",
      "source": [
        "#Activity 2\n",
        "sum = 0\n",
        "number = int(input(\"Enter a number:\"))\n",
        "while (number!= 0):\n",
        " sum= sum+ number\n",
        "number = int(input(\"Enter a number:\"))\n",
        "print(\"The sum is:\",sum)"
      ],
      "metadata": {
        "id": "zjw443P0c06g"
      },
      "execution_count": null,
      "outputs": []
    },
    {
      "cell_type": "code",
      "source": [
        "#Activity 3\n",
        "isprime= True\n",
        "i=2\n",
        "number= int(input(\"Enter a number:\"))\n",
        "while(i< number):\n",
        "  reminder= number%i\n",
        "  if(reminder == 0):\n",
        "    isprime= False\n",
        "  else:\n",
        "      i=i+1\n",
        "if (isprime):\n",
        "  print(\"The number is prime\")\n",
        "else:\n",
        "  print(\"The number is not prime\")"
      ],
      "metadata": {
        "colab": {
          "base_uri": "https://localhost:8080/"
        },
        "id": "gSq9GgCXbyEF",
        "outputId": "1d9598c4-76d4-4f3b-ccc0-49dc6b60d075"
      },
      "execution_count": 21,
      "outputs": [
        {
          "output_type": "stream",
          "name": "stdout",
          "text": [
            "Enter a number:5\n",
            "The number is prime\n"
          ]
        }
      ]
    },
    {
      "cell_type": "code",
      "source": [
        "#Activity 4\n",
        "i=0\n",
        "sum=0\n",
        "while(i<=4):\n",
        "  number=int(input(\"Enter a number:\"))\n",
        "  sum=sum+number\n",
        "  i=i+1\n",
        "  print(sum)"
      ],
      "metadata": {
        "colab": {
          "base_uri": "https://localhost:8080/"
        },
        "id": "KeqSR8oEW-iP",
        "outputId": "ad305a9a-5fa1-41d7-a8e4-70f1f11a2b46"
      },
      "execution_count": 13,
      "outputs": [
        {
          "output_type": "stream",
          "name": "stdout",
          "text": [
            "Enter a number:0\n",
            "0\n",
            "Enter a number:41\n",
            "41\n",
            "Enter a number:14\n",
            "55\n",
            "Enter a number:77\n",
            "132\n",
            "Enter a number:44\n",
            "176\n"
          ]
        }
      ]
    },
    {
      "cell_type": "code",
      "source": [
        "#Activity 5\n",
        "sum=0\n",
        "i=1\n",
        "while(i<=10):\n",
        "  sum=sum+i\n",
        "  i=i+1\n",
        "  print(sum)"
      ],
      "metadata": {
        "colab": {
          "base_uri": "https://localhost:8080/"
        },
        "id": "lvpd_C62Xf2l",
        "outputId": "9c96efec-89a8-47e5-969e-5aefee9f141f"
      },
      "execution_count": 14,
      "outputs": [
        {
          "output_type": "stream",
          "name": "stdout",
          "text": [
            "1\n",
            "3\n",
            "6\n",
            "10\n",
            "15\n",
            "21\n",
            "28\n",
            "36\n",
            "45\n",
            "55\n"
          ]
        }
      ]
    },
    {
      "cell_type": "code",
      "source": [
        "#Activity 6\n",
        "name =input(\"What is your name?\")\n",
        "age= int(input(\"What is your age?\"))\n",
        "city=input(\"In which city do you live?\")\n",
        "print(\"Welcome \"+name)\n",
        "print(\"Your age is \",age)\n",
        "print(\"You live in \"+city+\" city\")\n"
      ],
      "metadata": {
        "colab": {
          "base_uri": "https://localhost:8080/"
        },
        "id": "O-N-4FQfX6Eq",
        "outputId": "29ee71e2-5754-445b-ce28-bf004adc5365"
      },
      "execution_count": 24,
      "outputs": [
        {
          "output_type": "stream",
          "name": "stdout",
          "text": [
            "What is your name?Ayesha Siddiqua\n",
            "What is your age?20\n",
            "In which city do you live?Lahore\n",
            "Welcome Ayesha Siddiqua\n",
            "Your age is  20\n",
            "You live in Lahore city\n"
          ]
        }
      ]
    }
  ]
}