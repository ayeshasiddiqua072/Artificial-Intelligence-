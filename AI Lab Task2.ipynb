{
  "nbformat": 4,
  "nbformat_minor": 0,
  "metadata": {
    "colab": {
      "provenance": [],
      "collapsed_sections": [],
      "authorship_tag": "ABX9TyN3z5oaburrB0cKthTOE22c"
    },
    "kernelspec": {
      "name": "python3",
      "display_name": "Python 3"
    },
    "language_info": {
      "name": "python"
    }
  },
  "cells": [
    {
      "cell_type": "code",
      "execution_count": 7,
      "metadata": {
        "colab": {
          "base_uri": "https://localhost:8080/"
        },
        "id": "IPT-4mdT_zQO",
        "outputId": "308edaab-b7f3-4f16-b35a-80c5d6523032"
      },
      "outputs": [
        {
          "output_type": "stream",
          "name": "stdout",
          "text": [
            "Enter elements of list1\n",
            "enter a value:1\n",
            "enter a value:2\n",
            "enter a value:3\n",
            "enter a value:4\n",
            "enter a value:5\n",
            "Enter elements of List2\n",
            "Enter a value:6\n",
            "Enter a value:7\n",
            "Enter a value:8\n",
            "Enter a value:9\n",
            "Enter a value:10\n",
            "[1, 2, 3, 4, 5, 6, 7, 8, 9, 10]\n"
          ]
        }
      ],
      "source": [
        "#Activity 1\n",
        "#Accept two lists from user and display their joins\n",
        "List1=[]\n",
        "print(\"Enter elements of list1\")\n",
        "for i in range (5):\n",
        "  value=input (\"enter a value:\")\n",
        "  n=int(value)\n",
        "  List1.append(n)\n",
        "List2=[]\n",
        "print(\"Enter elements of List2\") \n",
        "for i in range(5):\n",
        "   value=input(\"Enter a value:\")\n",
        "   n=int(value)\n",
        "   List2.append(n)\n",
        "List3=List1+List2;\n",
        "print(List3)\n",
        "  "
      ]
    },
    {
      "cell_type": "code",
      "source": [
        "#Activity 2\n",
        "def isPalindrome(word):\n",
        "    temp=word[::-1]\n",
        "    if temp.capitalize()==word.capitalize():\n",
        "        return True\n",
        "    else:\n",
        "        return False\n",
        "print(isPalindrome(\"dad\"))     "
      ],
      "metadata": {
        "colab": {
          "base_uri": "https://localhost:8080/"
        },
        "id": "vPJvSSTyCV7A",
        "outputId": "314a6d8d-f76b-4920-aaf1-248f0dea5f91"
      },
      "execution_count": 6,
      "outputs": [
        {
          "output_type": "stream",
          "name": "stdout",
          "text": [
            "True\n"
          ]
        }
      ]
    },
    {
      "cell_type": "code",
      "source": [
        "#Activity 4\n",
        "def perimeter(listing):\n",
        "  length=len(listing)\n",
        "  perimeter=0;\n",
        "  for i in range(0,length-1):\n",
        "    dist = (((listing[i][0]-listing[i+1][0])**2)+((listing[i][1]-listing[i+1][1])**2))**0.5 \n",
        "    perimeter = perimeter + dist\n",
        "   \n",
        "  perimeter = perimeter +(((listing[i][0]-listing[i+1][0])**2)+((listing[i][1]-listing[i+1][1])**2))**0.5 \n",
        "    \n",
        "  return perimeter\n",
        "\n",
        "l = [(1,3),(2,7),(3,9),(-1,8)]\n",
        "print(perimeter(l))    \n"
      ],
      "metadata": {
        "colab": {
          "base_uri": "https://localhost:8080/"
        },
        "id": "P5O3APQuJfN3",
        "outputId": "a6657c99-8dcd-4815-a104-421143aa90fd"
      },
      "execution_count": 12,
      "outputs": [
        {
          "output_type": "stream",
          "name": "stdout",
          "text": [
            "14.60538485435277\n"
          ]
        }
      ]
    },
    {
      "cell_type": "code",
      "source": [
        "#Activity 5\n",
        "# Function defined\n",
        "def symmDiff(a,b):\n",
        "    e=set() \n",
        "    for i in a:   \n",
        "        if i not in b:\n",
        "           e.add(i)\n",
        "    for i in b:\n",
        "        if i not in a:\n",
        "          e.add(i)\n",
        "    return e\n",
        "set1={0,1,2,4,5}\n",
        "set2={4,5,7,8,9}\n",
        "print(symmDiff(set1,set2))\n",
        "print(set1.symmetric_difference(set2))\n",
        "print(set2.symmetric_difference(set1))\n",
        "print(set1^set2)\n",
        "print(set2^set1)\n"
      ],
      "metadata": {
        "colab": {
          "base_uri": "https://localhost:8080/"
        },
        "id": "lgCo3wnbHiW8",
        "outputId": "dec5924e-20e0-48d0-a399-74b65947a126"
      },
      "execution_count": 13,
      "outputs": [
        {
          "output_type": "stream",
          "name": "stdout",
          "text": [
            "{0, 1, 2, 7, 8, 9}\n",
            "{0, 1, 2, 7, 8, 9}\n",
            "{0, 1, 2, 7, 8, 9}\n",
            "{0, 1, 2, 7, 8, 9}\n",
            "{0, 1, 2, 7, 8, 9}\n"
          ]
        }
      ]
    },
    {
      "cell_type": "code",
      "source": [
        "#Activity 6\n",
        "sample={(\"ayesha\",\"siddiqua\") :\"7888876665556555665\",(\"aqsa\",\"naz\"):\"7878978978787988888\",}\n",
        "firstname=input(\"enter first name:\")\n",
        "lastname=input(\"enter last name:\")\n",
        "searchTuple=(firstname,lastname)\n",
        "if searchTuple in sample:\n",
        "   print(sample[searchTuple])\n",
        "else:\n",
        "  print(\"name not found\")   "
      ],
      "metadata": {
        "colab": {
          "base_uri": "https://localhost:8080/"
        },
        "id": "D7rZfLC1TNca",
        "outputId": "86153bba-e11a-4476-c49d-ff14b1097c2f"
      },
      "execution_count": 15,
      "outputs": [
        {
          "output_type": "stream",
          "name": "stdout",
          "text": [
            "enter first name:aqsa\n",
            "enter last name:batool\n",
            "name not found\n"
          ]
        }
      ]
    },
    {
      "cell_type": "code",
      "source": [
        "#Lab Task 1\n",
        "#Create two lists based on the user values. Merge both the lists and display in sorted order\n",
        "x=[]\n",
        "y=[]\n",
        "number1=int(input(\"Enter number of elements of list1:\"))\n",
        "for i in range(1,number1+1):\n",
        "    a=int(input(\"Enter element of list1:\"))\n",
        "    x.append(a)\n",
        "number2=int(input(\"Enter number of elements of list2:\"))\n",
        "for i in range(1,number2+1):\n",
        "    b=int(input(\"Enter element of list2:\"))\n",
        "    y.append(b)\n",
        "new=x+y\n",
        "new.sort()\n",
        "print(\"Sorted list is:\",new)"
      ],
      "metadata": {
        "colab": {
          "base_uri": "https://localhost:8080/"
        },
        "id": "g6gb9GF2pVAt",
        "outputId": "e2c8f341-ead2-40fe-c827-8656bb9c7419"
      },
      "execution_count": 2,
      "outputs": [
        {
          "output_type": "stream",
          "name": "stdout",
          "text": [
            "Enter number of elements of list1:2\n",
            "Enter element of list1:1\n",
            "Enter element of list1:2\n",
            "Enter number of elements of list2:4\n",
            "Enter element of list2:1\n",
            "Enter element of list2:2\n",
            "Enter element of list2:3\n",
            "Enter element of list2:4\n",
            "Sorted list is: [1, 1, 2, 2, 3, 4]\n"
          ]
        }
      ]
    },
    {
      "cell_type": "code",
      "source": [
        " #Lab Task 2\n",
        "#Repeat the above activity to find the smallest and largest element of the list. (Suppose all the elements\n",
        "#are integer values)\n",
        "x=[]\n",
        "y=[]\n",
        "number1=int(input(\"Enter number of elements of list1:\"))\n",
        "for i in range(1,number1+1):\n",
        "    a=int(input(\"Enter element of list1:\"))\n",
        "    x.append(a)\n",
        "number2=int(input(\"Enter number of elements of list2:\"))\n",
        "for i in range(1,number2+1):\n",
        "    b=int(input(\"Enter element of list2:\"))\n",
        "    y.append(b)\n",
        "new=x+y\n",
        "new.sort()\n",
        "print(\"Sorted list is:\",new)\n",
        "print(\"largest element in list 1 is: \",x[5])\n",
        "print(\"Smallest elements in list 1 is: \",x[0])\n",
        "print(\"largest element in list 2 is: \",y[5])\n",
        "print(\"Smallest element in list 2 is: \",y[0])"
      ],
      "metadata": {
        "colab": {
          "base_uri": "https://localhost:8080/"
        },
        "id": "nItnl0Aq1x78",
        "outputId": "9ef1addc-d6a3-4648-c3db-384982abe461"
      },
      "execution_count": 10,
      "outputs": [
        {
          "output_type": "stream",
          "name": "stdout",
          "text": [
            "Enter number of elements of list1:6\n",
            "Enter element of list1:1\n",
            "Enter element of list1:2\n",
            "Enter element of list1:3\n",
            "Enter element of list1:4\n",
            "Enter element of list1:5\n",
            "Enter element of list1:6\n",
            "Enter number of elements of list2:6\n",
            "Enter element of list2:7\n",
            "Enter element of list2:8\n",
            "Enter element of list2:9\n",
            "Enter element of list2:10\n",
            "Enter element of list2:11\n",
            "Enter element of list2:12\n",
            "Sorted list is: [1, 2, 3, 4, 5, 6, 7, 8, 9, 10, 11, 12]\n",
            "largest element in list 1 is:  6\n",
            "Smallest elements in list 1 is:  1\n",
            "largest element in list 2 is:  12\n",
            "Smallest element in list 2 is:  7\n"
          ]
        }
      ]
    },
    {
      "cell_type": "code",
      "source": [
        "#Lab Task 4\n",
        "#\n",
        "if __name__ == '__main__':\n",
        "\n",
        "    birthdays = {\n",
        "        'Albert Einstein': '03/14/1879',\n",
        "        'Benjamin Franklin': '01/17/1706',\n",
        "        'Ada Lovelace': '12/10/1815',\n",
        "        'Donald Trump': '06/14/1946',\n",
        "        'Rowan Atkinson': '01/6/1955'}\n",
        "\n",
        "    print('Welcome to the birthday dictionary. We know the birthdays of:')\n",
        "    for name in birthdays:\n",
        "        print(name)\n",
        "\n",
        "    print('Who\\'s birthday do you want to look up?')\n",
        "    name = input()\n",
        "    if name in birthdays:\n",
        "        print('{}\\'s birthday is {}.'.format(name, birthdays[name]))\n",
        "    else:\n",
        "              print('We don\\'t have {}\\'s birthday.'.format(name))"
      ],
      "metadata": {
        "colab": {
          "base_uri": "https://localhost:8080/"
        },
        "id": "c0OJwNCA3nRE",
        "outputId": "a6645244-112b-449d-f9b1-e8cb38e02bdd"
      },
      "execution_count": 11,
      "outputs": [
        {
          "output_type": "stream",
          "name": "stdout",
          "text": [
            "Welcome to the birthday dictionary. We know the birthdays of:\n",
            "Albert Einstein\n",
            "Benjamin Franklin\n",
            "Ada Lovelace\n",
            "Donald Trump\n",
            "Rowan Atkinson\n",
            "Who's birthday do you want to look up?\n",
            "Donald Trump\n",
            "Donald Trump's birthday is 06/14/1946.\n"
          ]
        }
      ]
    },
    {
      "cell_type": "code",
      "source": [
        "#Lab Task 5\n",
        "\n",
        "sample_dict = {\n",
        " \"name\": \"Kelly\",\n",
        " \"age\": 25,\n",
        " \"salary\": 8000,\n",
        " \"city\": \"New york\"}\n",
        "print(\"Given dictionary : \",sample_dict)\n",
        "\n",
        "res = {key: sample_dict[key] for key in sample_dict.keys()\n",
        "& {'name', 'salary'}}\n",
        "print(\"Dictionary with given keys is : \",res)\n",
        " "
      ],
      "metadata": {
        "colab": {
          "base_uri": "https://localhost:8080/"
        },
        "id": "SrWNFFIoGTZa",
        "outputId": "02b49031-67ab-4e89-8523-f9d8c422e826"
      },
      "execution_count": 23,
      "outputs": [
        {
          "output_type": "stream",
          "name": "stdout",
          "text": [
            "Given dictionary :  {'name': 'Kelly', 'age': 25, 'salary': 8000, 'city': 'New york'}\n",
            "Dictionary with given keys is :  {'salary': 8000, 'name': 'Kelly'}\n"
          ]
        }
      ]
    }
  ]
}