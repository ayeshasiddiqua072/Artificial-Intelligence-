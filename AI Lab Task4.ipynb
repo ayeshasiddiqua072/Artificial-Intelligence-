{
  "nbformat": 4,
  "nbformat_minor": 0,
  "metadata": {
    "colab": {
      "provenance": [],
      "authorship_tag": "ABX9TyOtkLQ9AThdogR/ZkY30FOq"
    },
    "kernelspec": {
      "name": "python3",
      "display_name": "Python 3"
    },
    "language_info": {
      "name": "python"
    }
  },
  "cells": [
    {
      "cell_type": "code",
      "execution_count": 1,
      "metadata": {
        "colab": {
          "base_uri": "https://localhost:8080/"
        },
        "id": "swuNMNpO09Ou",
        "outputId": "7fd0aa05-fd3b-4901-e671-964f9e434301"
      },
      "outputs": [
        {
          "output_type": "stream",
          "name": "stdout",
          "text": [
            "Visited Nodes are:  ['A', 'C', 'E']\n",
            "['A', 'E', 'D']\n"
          ]
        }
      ],
      "source": [
        "#              Artificial Intelligence Lab 4\n",
        "#Activity 1\n",
        "# Initial State is 'A' and Destination State is 'D'\n",
        "\n",
        "class Node:\n",
        "  def __init__(self, state, parent, actions, totalCost):\n",
        "    self.state = state\n",
        "    self.parent = parent\n",
        "    self.actions = actions\n",
        "    self.totalCost = totalCost\n",
        "\n",
        "def DFS():\n",
        "  initialState = 'A'\n",
        "  goalState = 'D'\n",
        "\n",
        "  graph = {'A': Node('A', None, ['B', 'E', 'C'], None),\n",
        "           'B': Node('B', None, ['D', 'E', 'A'], None),\n",
        "           'C': Node('C', None, ['A', 'F', 'G'], None),\n",
        "           'D': Node('D', None, ['B', 'E'], None),\n",
        "           'E': Node('E', None, ['A', 'B', 'D'], None),\n",
        "           'F': Node('F', None, ['C'], None),\n",
        "           'G': Node('G', None, ['C'], None)}\n",
        "  \n",
        "  frontier = [initialState]\n",
        "  visitedList = []\n",
        "\n",
        "  while len(frontier) != 0:\n",
        "    currentNode = frontier.pop(len(frontier)-1)\n",
        "    visitedList.append(currentNode)\n",
        "    currentChildren = 0\n",
        "    for child in graph[currentNode].actions:\n",
        "      if child not in frontier and child not in visitedList:\n",
        "        graph[child].parent = currentNode\n",
        "        if graph[child].state == goalState:\n",
        "          print(\"Visited Nodes are: \", visitedList)\n",
        "          return roadMap(graph, initialState, goalState)\n",
        "        currentChildren = currentChildren + 1\n",
        "        frontier.append(child)\n",
        "    if currentChildren == 0:\n",
        "      del visitedList[len(visitedList)-1]\n",
        "\n",
        "def roadMap(graph, initialState, goalState):\n",
        "  solutionList = [goalState]\n",
        "  currentParent = graph[goalState].parent\n",
        "\n",
        "  while currentParent != None:\n",
        "    solutionList.append(currentParent)\n",
        "    currentParent = graph[currentParent].parent\n",
        "  solutionList.reverse()\n",
        "  return solutionList\n",
        "sol = DFS()\n",
        "print(sol)"
      ]
    },
    {
      "cell_type": "code",
      "source": [
        "# Activity 2\n",
        "# Initial State is 'D' and Destination State is 'C'\n",
        "\n",
        "class Node:\n",
        "  def __init__(self, state, parent, actions, totalCost):\n",
        "    self.state = state\n",
        "    self.parent = parent\n",
        "    self.actions = actions\n",
        "    self.totalCost = totalCost\n",
        "\n",
        "def DFS():\n",
        "  initialState = 'D'\n",
        "  goalState = 'C'\n",
        "\n",
        "  graph = {'A': Node('A', None, ['B', 'E', 'C'], None),\n",
        "           'B': Node('B', None, ['D', 'E', 'A'], None),\n",
        "           'C': Node('C', None, ['A', 'F', 'G'], None),\n",
        "           'D': Node('D', None, ['B', 'E'], None),\n",
        "           'E': Node('E', None, ['A', 'B', 'D'], None),\n",
        "           'F': Node('F', None, ['C'], None),\n",
        "           'G': Node('G', None, ['C'], None)}\n",
        "  \n",
        "  frontier = [initialState]\n",
        "  visitedList = []\n",
        "\n",
        "  while len(frontier) != 0:\n",
        "    currentNode = frontier.pop(len(frontier)-1)\n",
        "    visitedList.append(currentNode)\n",
        "    currentChildren = 0\n",
        "    for child in graph[currentNode].actions:\n",
        "      if child not in frontier and child not in visitedList:\n",
        "        graph[child].parent = currentNode\n",
        "        if graph[child].state == goalState:\n",
        "          print(\"Visited Nodes are: \", visitedList)\n",
        "          return roadMap(graph, initialState, goalState)\n",
        "        currentChildren = currentChildren + 1\n",
        "        frontier.append(child)\n",
        "    if currentChildren == 0:\n",
        "      del visitedList[len(visitedList)-1]\n",
        "\n",
        "def roadMap(graph, initialState, goalState):\n",
        "  solutionList = [goalState]\n",
        "  currentParent = graph[goalState].parent\n",
        "\n",
        "  while currentParent != None:\n",
        "    solutionList.append(currentParent)\n",
        "    currentParent = graph[currentParent].parent\n",
        "  solutionList.reverse()\n",
        "  return solutionList\n",
        "\n",
        "sol = DFS()\n",
        "print(sol)"
      ],
      "metadata": {
        "colab": {
          "base_uri": "https://localhost:8080/"
        },
        "id": "TgqGMfAt3r1u",
        "outputId": "547974d3-e10e-4be5-9c13-1f764736c78f"
      },
      "execution_count": 2,
      "outputs": [
        {
          "output_type": "stream",
          "name": "stdout",
          "text": [
            "Visited Nodes are:  ['D', 'E', 'A']\n",
            "['D', 'E', 'A', 'C']\n"
          ]
        }
      ]
    },
    {
      "cell_type": "code",
      "source": [
        "# Lab Task 1\n",
        "# Imagine going from Arad to Bucharest in the following map.\n",
        "# By Depth First Search\n",
        "\n",
        "class Node:\n",
        "  def __init__(self, state, parent, actions, totalCost):\n",
        "    self.state = state\n",
        "    self.parent = parent\n",
        "    self.actions = actions\n",
        "    self.totalCost = totalCost\n",
        "  \n",
        "def DFS():\n",
        "  initialState = input(\"Enter initial Node: \")\n",
        "  destinationState = input(\"Enter destination Node: \")\n",
        "\n",
        "  graph = {'Oradea': Node('Oradea', None, ['Zerind' , 'Sibui'], None),\n",
        "                  'Zerind': Node('Zerind', None, ['Oradea' , 'Arad'], None),\n",
        "                  'Neamt': Node('Neamt', None, ['Iasi'], None),\n",
        "                  'Arad': Node('Arad', None, ['Zerind', 'Sibui' , 'Timisoara'], None),\n",
        "                  'Isai': Node('Isai', None, ['Neamt','Vaslui'], None),\n",
        "                  'Sibui': Node('Sibui', None, ['Oradea', 'Arad' , 'Fagaras'], None),\n",
        "                  'Fagaras': Node('Fagaras', None, ['Sibui', 'Bucharest'], None),\n",
        "                  'Vaslui': Node('Vaslui', None, ['Isai','Urziceni'], None),\n",
        "                  'Timisoara': Node('Timisoara', None, ['Arad','Lugoj'], None),\n",
        "                  'Riminica': Node('Riminica', None, ['Sibui','Pitesti','Craiova'], None),\n",
        "                  'Lugoj': Node('Lugoj', None, ['Timisoara','Mehadia'], None),\n",
        "                  'Pitesti': Node('Pitesti', None, ['Riminica','Craiova','Bucharest'], None),\n",
        "                  'Mehadia': Node('Mehadia', None, ['Lugoj','Drobeta'], None),\n",
        "                  'Bucharest': Node('Bucharest', None, ['Fagaras','Pitesti','Urziceni'], None),\n",
        "                  'Urziceni': Node('Urziceni', None, ['Bucharest','Hirsova','Vaslui'], None),\n",
        "                  'Hirsova': Node('Hirsova', None, ['Urziceni','Eforie'], None),\n",
        "                  'Drobeta': Node('Drobeta', None, ['Mehadia','Craiova'], None),\n",
        "                  'Craiova': Node('Craiova', None, ['Drobeta','Riminica','Pitesti'], None),\n",
        "                  'Giurgui': Node('Giurgui', None, ['Bucharest'], None),\n",
        "                  'Eforie': Node('Eforie', None, ['Hirsova'], None)}\n",
        "\n",
        "  frontier = [initialState]\n",
        "  visitedList = []\n",
        "\n",
        "  while len(frontier) != 0:\n",
        "    currentNode = frontier.pop(len(frontier)-1)\n",
        "    visitedList.append(currentNode)\n",
        "    currentChildren = 0\n",
        "    for child in graph[currentNode].actions:\n",
        "      if child not in frontier and child not in visitedList:\n",
        "        graph[child].parent = currentNode\n",
        "        if graph[child].state == destinationState:\n",
        "          print(\"Explored Nodes are: \", visitedList)\n",
        "          return roadMap(graph, initialState, destinationState)\n",
        "        currentChildren = currentChildren + 1\n",
        "        frontier.append(child)\n",
        "    if currentChildren == 0:\n",
        "      del visitedList[len(visitedList)-1]\n",
        "\n",
        "def roadMap(graph, initialState, destinationState):\n",
        "  solution = [destinationState]\n",
        "  currentParent = graph[destinationState].parent\n",
        "\n",
        "  while currentParent != None:\n",
        "    solution.append(currentParent)\n",
        "    currentParent = graph[currentParent].parent\n",
        "  solution.reverse()\n",
        "  return solution\n",
        "\n",
        "sol = DFS()\n",
        "print(sol)"
      ],
      "metadata": {
        "colab": {
          "base_uri": "https://localhost:8080/"
        },
        "id": "CLFMpFR34KKZ",
        "outputId": "618d5776-3980-4f4d-cf14-90de08e84009"
      },
      "execution_count": 7,
      "outputs": [
        {
          "output_type": "stream",
          "name": "stdout",
          "text": [
            "Enter initial Node: Arad\n",
            "Enter destination Node: Bucharest\n",
            "Explored Nodes are:  ['Arad', 'Timisoara', 'Lugoj', 'Mehadia', 'Drobeta', 'Craiova', 'Pitesti']\n",
            "['Arad', 'Timisoara', 'Lugoj', 'Mehadia', 'Drobeta', 'Craiova', 'Pitesti', 'Bucharest']\n"
          ]
        }
      ]
    },
    {
      "cell_type": "code",
      "source": [
        "# Lab Task 2\n",
        "class Trie:\n",
        "    def __init__(self):\n",
        "        self.character = {}\n",
        "        self.isLeaf = False \n",
        "def insert(root, s):\n",
        "    curr = root\n",
        " \n",
        "    for ch in s:\n",
        "        curr = curr.character.setdefault(ch, Trie())\n",
        " \n",
        "    curr.isLeaf = True\n",
        "row = [-1, -1, -1, 0, 1, 0, 1, 1]\n",
        "col = [-1, 1, 0, -1, -1, 1, 0, 1]\n",
        "\n",
        "def isSafe(x, y, processed, board, ch):\n",
        "    return (0 <= x < len(processed)) and (0 <= y < len(processed[0])) and \\\n",
        "           not processed[x][y] and (board[x][y] == ch)\n",
        "def searchBoggle(root, board, i, j, processed, path, result):\n",
        "    if root.isLeaf:\n",
        "        result.add(path)\n",
        "    processed[i][j] = True\n",
        "    for key, value in root.character.items():\n",
        "        for k in range(len(row)):\n",
        "            if isSafe(i + row[k], j + col[k], processed, board, key):\n",
        "                searchBoggle(value, board, i + row[k], j + col[k],\n",
        "                             processed, path + key, result)\n",
        "    processed[i][j] = False\n",
        "def searchInBoggle(board, words):\n",
        "    result = set()\n",
        "    if not board or not len(board):\n",
        "        return\n",
        "    root = Trie()\n",
        "    for word in words:\n",
        "        insert(root, word)\n",
        "    (M, N) = (len(board), len(board[0]))\n",
        "    processed = [[False for x in range(N)] for y in range(M)]\n",
        "    for i in range(M):\n",
        "        for j in range(N):\n",
        "            ch = board[i][j]  \n",
        " \n",
        "            if ch in root.character:\n",
        "                searchBoggle(root.character[ch], board, i, j, processed, ch, result)\n",
        "    return result\n",
        "board = [\n",
        "    ['M', 'S', 'E', 'F'],\n",
        "    ['R', 'A', 'T', 'D'],\n",
        "    ['L', 'O', 'N', 'E'],\n",
        "    ['K', 'A', 'F', 'B']\n",
        "  ]\n",
        "words = ['START', 'NOTE', 'SAND', 'STONED']\n",
        "searchInBoggle(board, words)\n",
        "\n",
        "validWords = searchInBoggle(board, words)\n",
        "print(validWords)"
      ],
      "metadata": {
        "colab": {
          "base_uri": "https://localhost:8080/"
        },
        "id": "hMlROgHU5f6i",
        "outputId": "0a2ced20-34e6-42b7-9315-7a9a09faf28e"
      },
      "execution_count": 12,
      "outputs": [
        {
          "output_type": "stream",
          "name": "stdout",
          "text": [
            "{'NOTE', 'SAND', 'STONED'}\n"
          ]
        }
      ]
    }
  ]
}